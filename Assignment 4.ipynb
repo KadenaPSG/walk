{
 "cells": [
  {
   "cell_type": "markdown",
   "id": "01375c32",
   "metadata": {},
   "source": [
    "# Assignment 4: Face Detection and Recognition\n",
    "\n",
    "## DTSC-680: Applied Machine Learning\n",
    "\n",
    "## Name:"
   ]
  },
  {
   "cell_type": "markdown",
   "id": "f8d53fe0",
   "metadata": {},
   "source": [
    "The `data` directory contains three folders 30 face images of three players from the 2024 Philadelphia Phillies: Alec Bohm, Bryson Stott, and Brandon Marsh. The original images were downloaded from Google Images and the face images were extraced using the `extract_faces` function from the textbook. In addition, the `Samples` directory contains three images of a combination of those players.\n",
    "\n",
    "Your task is to create a system that can correctly detect and identify Bohm, Stott, and Marsh in those three sample images."
   ]
  },
  {
   "cell_type": "markdown",
   "id": "fa89221e-4ba7-44f8-980e-1780373fa435",
   "metadata": {},
   "source": [
    "### Install Tensorflow 2.9.2"
   ]
  },
  {
   "cell_type": "code",
   "execution_count": null,
   "id": "ed9ad8f1-cfb8-4230-92f1-6d7840f0b4e9",
   "metadata": {},
   "outputs": [],
   "source": [
    "# CODE PROVIDED\n",
    "import subprocess\n",
    "import sys\n",
    "from IPython.display import clear_output\n",
    "def check_tensorflow():\n",
    "    tf_desired_version = \"2.9.2\"\n",
    "\n",
    "    try:\n",
    "        import tensorflow as tf\n",
    "        tf_installed_version = tf.__version__\n",
    "    except ImportError:\n",
    "        tf_installed_version = None\n",
    "\n",
    "    #Check for the right version\n",
    "    if tf_installed_version != tf_desired_version:\n",
    "        print(f\"Current TensorFlow version: {tf_installed_version}. Installing version {tf_desired_version}...\")\n",
    "        \n",
    "        # Uninstall the current TensorFlow version\n",
    "        subprocess.check_call([sys.executable, '-m', 'pip', 'uninstall', '-y', 'tensorflow'])\n",
    "        \n",
    "        # Install the desired TensorFlow version\n",
    "        subprocess.check_call([sys.executable, '-m', 'pip', 'install', f'tensorflow=={tf_desired_version}'])\n",
    "\n",
    "        clear_output()\n",
    "        \n",
    "        print(f\"TensorFlow version {tf_desired_version} installed successfully. Please restart your kernel to apply the changes.\")\n",
    "    else:\n",
    "        print(f\"TensorFlow version {tf_desired_version} is already installed.\")    \n",
    "\n",
    "check_tensorflow()"
   ]
  },
  {
   "cell_type": "code",
   "execution_count": null,
   "id": "75ab33b6-733f-4219-8c9b-335b0d7cedcc",
   "metadata": {},
   "outputs": [],
   "source": [
    "# STUDENTS CODE"
   ]
  },
  {
   "cell_type": "code",
   "execution_count": null,
   "id": "b2164d43-b8a4-442d-8e6f-07b7c62b1032",
   "metadata": {},
   "outputs": [],
   "source": [
    "# STUDENTS CODE"
   ]
  },
  {
   "cell_type": "code",
   "execution_count": null,
   "id": "ac7830dd-c0a1-49f1-a524-4b730e924253",
   "metadata": {},
   "outputs": [],
   "source": [
    "# STUDENTS CODE"
   ]
  },
  {
   "cell_type": "code",
   "execution_count": null,
   "id": "9528c607-9937-491a-9b94-3bc58c163e69",
   "metadata": {},
   "outputs": [],
   "source": [
    "# STUDENTS CODE"
   ]
  },
  {
   "cell_type": "code",
   "execution_count": null,
   "id": "8247c608-a2d9-44f5-b2d5-742dd3677e61",
   "metadata": {},
   "outputs": [],
   "source": [
    "# STUDENTS CODE"
   ]
  },
  {
   "cell_type": "code",
   "execution_count": null,
   "id": "9859e3a1-fbbc-46fe-88e6-3d6beb0b7085",
   "metadata": {},
   "outputs": [],
   "source": [
    "# STUDENTS CODE"
   ]
  },
  {
   "cell_type": "code",
   "execution_count": null,
   "id": "30373cfe-aba6-401f-b81c-b7def16271a5",
   "metadata": {},
   "outputs": [],
   "source": [
    "# STUDENTS CODE"
   ]
  },
  {
   "cell_type": "markdown",
   "id": "691da19f-19cc-48f4-abaa-9496b7baa3d5",
   "metadata": {},
   "source": [
    "## Codegrade Validation\n",
    "\n",
    "### Execute the cells below to generate the file required for submission to Codegrade. DO NOT CHANGE THE CODE."
   ]
  },
  {
   "cell_type": "code",
   "execution_count": null,
   "id": "2dfd7ede-edb6-411d-8b4a-497507ae8fd7",
   "metadata": {},
   "outputs": [],
   "source": [
    "# CODE PROVIDED\n",
    "import os\n",
    "import random\n",
    "from tensorflow.keras.preprocessing import image\n",
    "from tensorflow.keras.models import load_model\n",
    "import numpy as np\n",
    "import pandas as pd\n",
    "from sklearn.metrics import accuracy_score, precision_score, recall_score\n",
    "from PIL import Image, ImageOps\n",
    "from mtcnn.mtcnn import MTCNN\n",
    "from tensorflow.keras.applications.resnet50 import preprocess_input\n",
    "\n",
    "\n",
    "def make_pred(path, model, names, face_threshold=0.9, prediction_threshold=0.9, show_outline=True, size=(12, 8)):\n",
    "    # Load the image and orient it correctly\n",
    "    pil_image = Image.open(path)\n",
    "    exif = pil_image.getexif()\n",
    "    \n",
    "    for k in exif.keys():\n",
    "        if k != 0x0112:\n",
    "            exif[k] = None\n",
    "            del exif[k]\n",
    "            \n",
    "    pil_image.info[\"exif\"] = exif.tobytes()\n",
    "    pil_image = ImageOps.exif_transpose(pil_image)\n",
    "    np_image = np.array(pil_image)\n",
    "\n",
    "    detector = MTCNN()\n",
    "    faces = detector.detect_faces(np_image)\n",
    "    faces = [face for face in faces if face['confidence'] > face_threshold]\n",
    "\n",
    "    for face in faces:\n",
    "        x, y, w, h = face['box']\n",
    "\n",
    "        # Use the model to identify the face\n",
    "        face_image = get_face(np_image, face)\n",
    "        face_image = image.array_to_img(face_image)\n",
    "        face_image = preprocess_input(np.array(face_image))\n",
    "        predictions = model.predict(np.expand_dims(face_image, axis=0))\n",
    "        confidence = np.max(predictions)\n",
    "\n",
    "        if (confidence > prediction_threshold):\n",
    "            return predictions\n",
    "            \n",
    "\n",
    "        return None\n",
    "        \n",
    "def load_and_preprocess_image(img_path, target_size=(224, 224)):\n",
    "    img = image.load_img(img_path, target_size=target_size)\n",
    "    img_array = image.img_to_array(img)\n",
    "    img_array = np.expand_dims(img_array, axis=0)\n",
    "    img_array = img_array / 255.0\n",
    "    return img_array\n",
    "\n",
    "def get_all_images_from_directory(directory):\n",
    "    images = []\n",
    "    labels = []\n",
    "    images_names = []\n",
    "    for label in os.listdir(directory):\n",
    "        label_path = os.path.join(directory, label)\n",
    "        if os.path.isdir(label_path):\n",
    "            images_names += [img for img in os.listdir(label_path)]\n",
    "            images += [os.path.join(label_path, img) for img in os.listdir(label_path)]\n",
    "            labels += [int(label)] * len(os.listdir(label_path))\n",
    "    \n",
    "    # Embaralhar as imagens e labels\n",
    "    combined = list(zip(images_names, images, labels))\n",
    "    random.shuffle(combined)\n",
    "    images_names, images, labels = zip(*combined)\n",
    "    \n",
    "    #return images_names, images, labels\n",
    "    return zip(*combined)\n",
    "\n",
    "def predict_and_validate(model, image_names, image_paths, true_labels, class_labels):\n",
    "    predictions = []\n",
    "    for img_path in image_paths:\n",
    "        predictions.append(make_pred(img_path, model, class_labels, prediction_threshold=0.8))\n",
    "    \n",
    "    results = [true == pred for true, pred in zip(true_labels, predictions)]\n",
    "    \n",
    "    df = pd.DataFrame({\n",
    "        'Player': image_names,\n",
    "        'Prediction Array': predictions\n",
    "    })\n",
    "    \n",
    "    return df"
   ]
  },
  {
   "cell_type": "code",
   "execution_count": null,
   "id": "fdc8debe-7e9c-4738-8a69-7914ae0a2d3d",
   "metadata": {},
   "outputs": [],
   "source": [
    "# CODE PROVIDED\n",
    "from IPython.display import clear_output\n",
    "\n",
    "model_to_evaluate = model  #MAKE SURE TO USE YOUR MODEL\n",
    "\n",
    "class_labels = {0: 'Alec Bohm', 1: 'Bryson Stott', 2: 'Brandon Marsh'} \n",
    "image_names, image_paths, true_labels = get_all_images_from_directory('data/codegrade_test/')\n",
    "prediction_df = predict_and_validate(model_to_evaluate, image_names, image_paths, true_labels, class_labels)\n",
    "clear_output()\n",
    "prediction_df"
   ]
  },
  {
   "cell_type": "markdown",
   "id": "2427b877-bc6b-4aa9-83dc-4bd38c9f2a24",
   "metadata": {},
   "source": [
    "### Export Prediction Array for Codegrade evaluation\n"
   ]
  },
  {
   "cell_type": "code",
   "execution_count": null,
   "id": "a4e8d4fc-69a2-48c0-922d-119c75f663f8",
   "metadata": {},
   "outputs": [],
   "source": [
    "# CODE PROVIDED\n",
    "import pandas as pd\n",
    "\n",
    "#export your classification model\n",
    "prediction_df.to_pickle('prediction_df')"
   ]
  }
 ],
 "metadata": {
  "kernelspec": {
   "display_name": "Python 3 (ipykernel)",
   "language": "python",
   "name": "python3"
  },
  "language_info": {
   "codemirror_mode": {
    "name": "ipython",
    "version": 3
   },
   "file_extension": ".py",
   "mimetype": "text/x-python",
   "name": "python",
   "nbconvert_exporter": "python",
   "pygments_lexer": "ipython3",
   "version": "3.8.18"
  }
 },
 "nbformat": 4,
 "nbformat_minor": 5
}

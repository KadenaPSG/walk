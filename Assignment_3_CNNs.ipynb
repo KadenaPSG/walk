{
 "cells": [
  {
   "cell_type": "markdown",
   "id": "01375c32",
   "metadata": {
    "id": "01375c32"
   },
   "source": [
    "# Assignment 3: Convolutional Neural Networks\n",
    "\n",
    "## DTSC-680: Applied Machine Learning\n",
    "\n",
    "## Name:"
   ]
  },
  {
   "cell_type": "markdown",
   "id": "b249b051",
   "metadata": {
    "id": "b249b051"
   },
   "source": [
    "### Overview\n",
    "\n",
    "The [`CIFAR10` dataset](https://keras.io/api/datasets/cifar10/) contains 50,000 32 $\\times$ 32 colored images of the things listed below. \n",
    "\n",
    "| Label    | Description |\n",
    "| -------- | -------|\n",
    "| 0 | airplane    |\n",
    "| 1 | automobile     |\n",
    "| 2 | bird    |\n",
    "| 3 | cat    |\n",
    "| 4 | deer    |\n",
    "| 5 | dog    |\n",
    "| 6 | frog    |\n",
    "| 7 | horse    |\n",
    "| 8 | ship    |\n",
    "| 9 | truck    |\n",
    "\n",
    "The `base_model` contains a CNN that was trained on over 17,000 CIFAR10 images, none of which contained a horse, ship, or truck. In this assignment, you will use the bottleneck layers of the `base_model`, along with transfer learning to build a network that can classify all 10 categories of the images in the CIFAR10 dataset."
   ]
  },
  {
   "cell_type": "markdown",
   "id": "79ce8065-0981-41dc-b06e-1e52b8a974c8",
   "metadata": {},
   "source": [
    "### Install Tensorflow 2.9.2"
   ]
  },
  {
   "cell_type": "code",
   "execution_count": null,
   "id": "6f940fab-8cc5-49ab-a18c-f589c92bdf79",
   "metadata": {},
   "outputs": [],
   "source": [
    "# CODE PROVIDED\n",
    "import subprocess\n",
    "import sys\n",
    "from IPython.display import clear_output\n",
    "def update_libraries():\n",
    "    tf_desired_version = \"2.9.2\"\n",
    "\n",
    "    try:\n",
    "        import tensorflow as tf\n",
    "        tf_installed_version = tf.__version__\n",
    "    except ImportError:\n",
    "        tf_installed_version = None\n",
    "\n",
    "    # Update pip to the latest version\n",
    "    subprocess.check_call([sys.executable, '-m', 'pip', 'install', '--upgrade', 'pip'])\n",
    "    print(\"Pip updated!\")\n",
    "    \n",
    "    #Check for the right version\n",
    "    if tf_installed_version != tf_desired_version:\n",
    "        print(f\"Current TensorFlow version: {tf_installed_version}. Installing version {tf_desired_version}...\")\n",
    "        \n",
    "        # Uninstall the current TensorFlow version\n",
    "        subprocess.check_call([sys.executable, '-m', 'pip', 'uninstall', '-y', 'tensorflow'])\n",
    "        \n",
    "        # Install the desired TensorFlow version\n",
    "        subprocess.check_call([sys.executable, '-m', 'pip', 'install', f'tensorflow=={tf_desired_version}'])\n",
    "\n",
    "        clear_output()\n",
    "        print(\"TensorFlow version {tf_desired_version} installed successfully\")\n",
    "        \n",
    "    else:\n",
    "        print(f\"TensorFlow version {tf_desired_version} is already installed.\")    \n",
    "\n",
    "\n",
    "    print(f\"Please restart your kernel to apply the changes.\")\n",
    "    \n",
    "update_libraries()"
   ]
  },
  {
   "cell_type": "code",
   "execution_count": 1,
   "id": "671e354a",
   "metadata": {
    "id": "671e354a"
   },
   "outputs": [],
   "source": [
    "# common imports\n",
    "import numpy as np\n",
    "import pandas as pd"
   ]
  },
  {
   "cell_type": "markdown",
   "id": "824bea7e",
   "metadata": {
    "id": "824bea7e"
   },
   "source": [
    "### Data and Model Prep\n",
    "\n",
    "Load the `base_model` and then run the following cell to load the data."
   ]
  },
  {
   "cell_type": "code",
   "execution_count": 2,
   "id": "8d50001a",
   "metadata": {},
   "outputs": [],
   "source": [
    "# STUDENTS CODE\n",
    "from tensorflow.keras.models import load_model\n",
    "base_model = load_model('base_model3.h5')\n"
   ]
  },
  {
   "cell_type": "code",
   "execution_count": 3,
   "id": "e99f1237",
   "metadata": {},
   "outputs": [],
   "source": [
    "# CODE PROVIDED -- takes almost 3 minutes to run\n",
    "x_train = np.loadtxt('data/x_train.txt').reshape(32516, 32, 32, 3)\n",
    "y_train = np.loadtxt('data/y_train.txt')\n",
    "x_test = np.loadtxt('data/x_test.txt').reshape(6512, 32, 32, 3)\n",
    "y_test = np.loadtxt('data/y_test.txt')"
   ]
  },
  {
   "cell_type": "markdown",
   "id": "8b8e5e73",
   "metadata": {},
   "source": [
    "Let's test the `base_model`. The below code loads and displays a sample image of a ship from the test dataset. Use the `base_model` to make a prediction about the object contained in the sample image."
   ]
  },
  {
   "cell_type": "code",
   "execution_count": 4,
   "id": "e4ec8309",
   "metadata": {},
   "outputs": [
    {
     "name": "stdout",
     "output_type": "stream",
     "text": [
      "8.0\n"
     ]
    },
    {
     "data": {
      "text/plain": [
       "<matplotlib.image.AxesImage at 0x15d3ae9aa60>"
      ]
     },
     "execution_count": 4,
     "metadata": {},
     "output_type": "execute_result"
    },
    {
     "data": {
      "image/png": "[encoded data removed]",
      "text/plain": [
       "<Figure size 640x480 with 1 Axes>"
      ]
     },
     "metadata": {},
     "output_type": "display_data"
    }
   ],
   "source": [
    "# CODE PROVIDED\n",
    "%matplotlib inline\n",
    "import matplotlib.pyplot as plt\n",
    "x = x_test[0]\n",
    "\n",
    "print(y_test[0])\n",
    "plt.xticks([])\n",
    "plt.yticks([])\n",
    "plt.imshow(x)"
   ]
  },
  {
   "cell_type": "code",
   "execution_count": 5,
   "id": "1221f816",
   "metadata": {},
   "outputs": [
    {
     "name": "stdout",
     "output_type": "stream",
     "text": [
      "1/1 [==============================] - 0s 115ms/step\n",
      "Predicted class: 1\n",
      "Prediction probabilities: [[1.0781817e-01 8.9212847e-01 4.9011480e-05 3.9390525e-06 2.2663464e-07\n",
      "  1.6919363e-07 2.2266207e-09]]\n"
     ]
    }
   ],
   "source": [
    "# CODE PROVIDED\n",
    "from tensorflow.keras.preprocessing import image\n",
    "\n",
    "# preprocess the image\n",
    "x = image.img_to_array(x_test[0])\n",
    "x = np.expand_dims(x, axis=0)\n",
    "\n",
    "# STUDENTS CODE\n",
    "prediction = base_model.predict(x)\n",
    "predicted_class = np.argmax(prediction)\n",
    "\n",
    "print(\"Predicted class:\", predicted_class)\n",
    "print(\"Prediction probabilities:\", prediction)"
   ]
  },
  {
   "cell_type": "markdown",
   "id": "00a0ffe1",
   "metadata": {},
   "source": [
    "What does the `base_model` predict that the sample image is? Let's use transfer learning to create a domain-specific model that can classify images of horses, ships, and trucks in addition to the rest of the images that the `base_model` was trained on.\n",
    "\n",
    "The below code extracts the bottleneck layers from the `base_model`."
   ]
  },
  {
   "cell_type": "code",
   "execution_count": 6,
   "id": "a989df97",
   "metadata": {},
   "outputs": [],
   "source": [
    "from tensorflow.keras.models import Model\n",
    "\n",
    "model = Model(inputs=base_model.layers[0].input, outputs=base_model.layers[3].output)"
   ]
  },
  {
   "cell_type": "markdown",
   "id": "67aeeb92",
   "metadata": {},
   "source": [
    "### Transfer Learning\n",
    "\n",
    "Create the classification layers for transfer learning and train them."
   ]
  },
  {
   "cell_type": "code",
   "execution_count": 7,
   "id": "2d67c0b5",
   "metadata": {},
   "outputs": [],
   "source": [
    "from tensorflow.keras.models import Sequential\n",
    "from tensorflow.keras.layers import Flatten, Dense, Dropout\n",
    "\n",
    "classification = Sequential()\n",
    "classification.add(Flatten(input_shape=model.output_shape[1:]))\n",
    "classification.add(Dense(512, activation='relu'))\n",
    "classification.add(Dropout(0.5))\n",
    "classification.add(Dense(10, activation='softmax'))\n",
    "\n",
    "classification.compile(optimizer='adam',\n",
    "                       loss='sparse_categorical_crossentropy',\n",
    "                       metrics=['accuracy'])"
   ]
  },
  {
   "cell_type": "code",
   "execution_count": 8,
   "id": "42f0e989",
   "metadata": {},
   "outputs": [
    {
     "name": "stdout",
     "output_type": "stream",
     "text": [
      "1017/1017 [==============================] - 6s 6ms/step\n",
      "204/204 [==============================] - 1s 6ms/step\n"
     ]
    }
   ],
   "source": [
    "# Extract bottleneck features for train and test sets\n",
    "x_train_features = model.predict(x_train)\n",
    "x_test_features = model.predict(x_test)"
   ]
  },
  {
   "cell_type": "code",
   "execution_count": 9,
   "id": "59a60561",
   "metadata": {},
   "outputs": [
    {
     "name": "stdout",
     "output_type": "stream",
     "text": [
      "Epoch 1/10\n",
      "509/509 [==============================] - 4s 8ms/step - loss: 1.1914 - accuracy: 0.5840 - val_loss: 0.9699 - val_accuracy: 0.6671\n",
      "Epoch 2/10\n",
      "509/509 [==============================] - 4s 7ms/step - loss: 0.9561 - accuracy: 0.6671 - val_loss: 0.9212 - val_accuracy: 0.6786\n",
      "Epoch 3/10\n",
      "509/509 [==============================] - 4s 7ms/step - loss: 0.8534 - accuracy: 0.7045 - val_loss: 0.8751 - val_accuracy: 0.6924\n",
      "Epoch 4/10\n",
      "509/509 [==============================] - 4s 7ms/step - loss: 0.7782 - accuracy: 0.7305 - val_loss: 0.8531 - val_accuracy: 0.7082\n",
      "Epoch 5/10\n",
      "509/509 [==============================] - 4s 8ms/step - loss: 0.7159 - accuracy: 0.7533 - val_loss: 0.8228 - val_accuracy: 0.7144\n",
      "Epoch 6/10\n",
      "509/509 [==============================] - 4s 7ms/step - loss: 0.6666 - accuracy: 0.7677 - val_loss: 0.8295 - val_accuracy: 0.7178\n",
      "Epoch 7/10\n",
      "509/509 [==============================] - 4s 8ms/step - loss: 0.6083 - accuracy: 0.7867 - val_loss: 0.8038 - val_accuracy: 0.7299\n",
      "Epoch 8/10\n",
      "509/509 [==============================] - 4s 7ms/step - loss: 0.5613 - accuracy: 0.8046 - val_loss: 0.8387 - val_accuracy: 0.7196\n",
      "Epoch 9/10\n",
      "509/509 [==============================] - 4s 7ms/step - loss: 0.5122 - accuracy: 0.8207 - val_loss: 0.8185 - val_accuracy: 0.7317\n",
      "Epoch 10/10\n",
      "509/509 [==============================] - 4s 7ms/step - loss: 0.4802 - accuracy: 0.8307 - val_loss: 0.8393 - val_accuracy: 0.7254\n"
     ]
    }
   ],
   "source": [
    "# Train the classification model\n",
    "hist = classification.fit(\n",
    "    x_train_features, y_train,\n",
    "    epochs=10,\n",
    "    batch_size=64,\n",
    "    validation_data=(x_test_features, y_test)\n",
    ")"
   ]
  },
  {
   "cell_type": "markdown",
   "id": "873c9aa0",
   "metadata": {},
   "source": [
    "Plot the training and validation accuracy."
   ]
  },
  {
   "cell_type": "code",
   "execution_count": 10,
   "id": "f89b409b",
   "metadata": {
    "scrolled": true
   },
   "outputs": [
    {
     "data": {
      "image/png": "[encoded data removed]",
      "text/plain": [
       "<Figure size 640x480 with 1 Axes>"
      ]
     },
     "metadata": {},
     "output_type": "display_data"
    }
   ],
   "source": [
    "import matplotlib.pyplot as plt\n",
    "\n",
    "acc = hist.history['accuracy']\n",
    "val_acc = hist.history['val_accuracy']\n",
    "epochs = range(1, len(acc) + 1)\n",
    "\n",
    "plt.plot(epochs, acc, '-', label='Training Accuracy')\n",
    "plt.plot(epochs, val_acc, ':', label='Validation Accuracy')\n",
    "plt.title('Training and Validation Accuracy')\n",
    "plt.xlabel('Epoch')\n",
    "plt.ylabel('Accuracy')\n",
    "plt.legend(loc='lower right')\n",
    "plt.show()"
   ]
  },
  {
   "cell_type": "markdown",
   "id": "fbab116c",
   "metadata": {},
   "source": [
    "Check to ensure the new model correctly classifies the sample image of a ship."
   ]
  },
  {
   "cell_type": "code",
   "execution_count": 11,
   "id": "fdf42c0c",
   "metadata": {},
   "outputs": [
    {
     "name": "stdout",
     "output_type": "stream",
     "text": [
      "1/1 [==============================] - 0s 18ms/step\n"
     ]
    }
   ],
   "source": [
    "from tensorflow.keras.preprocessing import image\n",
    "import numpy as np\n",
    "\n",
    "\n",
    "x_sample = image.img_to_array(x_test[0])\n",
    "x_sample = np.expand_dims(x_sample, axis=0)\n",
    "\n",
    "\n",
    "sample_features = model.predict(x_sample)"
   ]
  },
  {
   "cell_type": "code",
   "execution_count": 13,
   "id": "094e56e7",
   "metadata": {},
   "outputs": [
    {
     "name": "stdout",
     "output_type": "stream",
     "text": [
      "1/1 [==============================] - 0s 48ms/step\n",
      "Predicted class: 8\n",
      "Prediction probabilities: [[1.4552599e-03 1.0814604e-01 3.3573162e-09 1.0368709e-09 1.7054077e-09\n",
      "  2.9400080e-11 1.2197515e-12 2.3134393e-10 8.8949561e-01 9.0307364e-04]]\n",
      "True label: 8\n"
     ]
    }
   ],
   "source": [
    "pred_probs = classification.predict(sample_features)\n",
    "predicted_class = np.argmax(pred_probs)\n",
    "\n",
    "print(\"Predicted class:\", predicted_class)\n",
    "print(\"Prediction probabilities:\", pred_probs)\n",
    "print(\"True label:\", int(y_test[0]))"
   ]
  },
  {
   "cell_type": "markdown",
   "id": "6bc89645-8f5f-4a74-bc22-2573bdb63d91",
   "metadata": {},
   "source": [
    "### Export Models for codegrade evaluation\n",
    "\n",
    "Export Classification and CNN models"
   ]
  },
  {
   "cell_type": "code",
   "execution_count": 14,
   "id": "7324e76c",
   "metadata": {},
   "outputs": [
    {
     "name": "stdout",
     "output_type": "stream",
     "text": [
      "WARNING:tensorflow:Compiled the loaded model, but the compiled metrics have yet to be built. `model.compile_metrics` will be empty until you train or evaluate the model.\n"
     ]
    }
   ],
   "source": [
    "\n",
    "#export your classification model\n",
    "classification.save('classification_model.h5')\n",
    "\n",
    "#export your CNN model\n",
    "model.save('CNN_model.h5')"
   ]
  },
  {
   "cell_type": "code",
   "execution_count": null,
   "id": "f5f3f7bd-f950-4bb7-bf70-aefc8d8ac98a",
   "metadata": {},
   "outputs": [],
   "source": []
  }
 ],
 "metadata": {
  "colab": {
   "provenance": []
  },
  "kernelspec": {
   "display_name": "dtsc680",
   "language": "python",
   "name": "dtsc680"
  },
  "language_info": {
   "codemirror_mode": {
    "name": "ipython",
    "version": 3
   },
   "file_extension": ".py",
   "mimetype": "text/x-python",
   "name": "python",
   "nbconvert_exporter": "python",
   "pygments_lexer": "ipython3",
   "version": "3.8.20"
  }
 },
 "nbformat": 4,
 "nbformat_minor": 5
}
